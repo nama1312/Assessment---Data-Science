{
 "cells": [
  {
   "cell_type": "markdown",
   "id": "443fb998-90b8-4d59-8696-310228acffaf",
   "metadata": {},
   "source": [
    "# Implementation of Lookalike Model"
   ]
  },
  {
   "cell_type": "code",
   "execution_count": 21,
   "id": "cb09683e-0f40-41f1-94f6-52f6063e4a06",
   "metadata": {},
   "outputs": [],
   "source": [
    "import pandas as pd\n",
    "from sklearn.preprocessing import LabelEncoder\n",
    "from sklearn.metrics.pairwise import cosine_similarity\n",
    "import numpy as np\n",
    "from sklearn.preprocessing import StandardScaler"
   ]
  },
  {
   "cell_type": "markdown",
   "id": "d58842fc-270e-4c01-902a-158c277ab691",
   "metadata": {},
   "source": [
    "# loading the datasets"
   ]
  },
  {
   "cell_type": "code",
   "execution_count": 23,
   "id": "c52a586c-b558-4a4a-aec2-7e33fd03ca3e",
   "metadata": {},
   "outputs": [],
   "source": [
    "customers_df = pd.read_csv('Customers.csv')\n",
    "products_df = pd.read_csv('Products.csv')"
   ]
  },
  {
   "cell_type": "markdown",
   "id": "14ee1554-a8a8-4cc6-99d2-f68a8e0ac2b4",
   "metadata": {},
   "source": [
    "# Data from customers and products file"
   ]
  },
  {
   "cell_type": "code",
   "execution_count": 28,
   "id": "fa364c5b-5edf-456c-940c-4ce362e9ae6a",
   "metadata": {},
   "outputs": [
    {
     "name": "stdout",
     "output_type": "stream",
     "text": [
      "  CustomerID        CustomerName         Region  SignupDate\n",
      "0      C0001    Lawrence Carroll  South America  2022-07-10\n",
      "1      C0002      Elizabeth Lutz           Asia  2022-02-13\n",
      "2      C0003      Michael Rivera  South America  2024-03-07\n",
      "3      C0004  Kathleen Rodriguez  South America  2022-10-09\n",
      "4      C0005         Laura Weber           Asia  2022-08-15\n",
      "  ProductID              ProductName     Category   Price\n",
      "0      P001     ActiveWear Biography        Books  169.30\n",
      "1      P002    ActiveWear Smartwatch  Electronics  346.30\n",
      "2      P003  ComfortLiving Biography        Books   44.12\n",
      "3      P004            BookWorld Rug   Home Decor   95.69\n",
      "4      P005          TechPro T-Shirt     Clothing  429.31\n"
     ]
    }
   ],
   "source": [
    "print(customers_df.head())\n",
    "print(products_df.head())"
   ]
  },
  {
   "cell_type": "markdown",
   "id": "9436db64-d2cb-44d8-9be6-2ff4fb7a944d",
   "metadata": {},
   "source": [
    "# Data preprocessing and further for Model Development"
   ]
  },
  {
   "cell_type": "code",
   "execution_count": 31,
   "id": "2661d260-6ed7-4728-83a0-7af35a15bc31",
   "metadata": {},
   "outputs": [],
   "source": [
    "#       Preprocessing \n",
    "label_encoder = LabelEncoder()\n",
    "customers_df['Region_encoded'] = label_encoder.fit_transform(customers_df['Region'])\n",
    "\n",
    "customers_df['SignupDate'] = pd.to_datetime(customers_df['SignupDate']) #feature engeenering\n",
    "customers_df['DaysSinceSignup'] = (pd.to_datetime('today') - customers_df['SignupDate']).dt.days\n",
    "\n",
    "products_df['Category_encoded'] = label_encoder.fit_transform(products_df['Category'])\n",
    "\n",
    "import random\n",
    "transaction_data = []\n",
    "\n",
    "for customer_id in customers_df['CustomerID']:\n",
    "    # Randomly select 3 products\n",
    "    selected_products = random.sample(list(products_df['ProductID']), 3)\n",
    "    for product_id in selected_products:\n",
    "        # Randomly assigning price\n",
    "        product_price = products_df[products_df['ProductID'] == product_id]['Price'].values[0]\n",
    "        transaction_data.append([customer_id, product_id, product_price])\n",
    "\n",
    "#   DataFrame\n",
    "transaction_df = pd.DataFrame(transaction_data, columns=['CustomerID', 'ProductID', 'Price'])\n",
    "\n",
    "\n",
    "customer_product_matrix = transaction_df.pivot_table(index='CustomerID', columns='ProductID', values='Price', aggfunc='sum', fill_value=0)\n",
    "\n",
    "#  Normalize bu using Standardscaler\n",
    "scaler = StandardScaler()\n",
    "normalized_matrix = scaler.fit_transform(customer_product_matrix)\n",
    "\n",
    "similarity_matrix = cosine_similarity(normalized_matrix)"
   ]
  },
  {
   "cell_type": "code",
   "execution_count": 35,
   "id": "891992ad-e1ff-48de-a3e1-be0a72ec492b",
   "metadata": {},
   "outputs": [
    {
     "name": "stdout",
     "output_type": "stream",
     "text": [
      "   CustomerID                                         Lookalikes\n",
      "0       C0001  [(C0033, 0.318957), (C0182, 0.377296), (C0008,...\n",
      "1       C0002  [(C0100, 0.327064), (C0006, 0.333188), (C0157,...\n",
      "2       C0003  [(C0076, 0.404669), (C0014, 0.407113), (C0157,...\n",
      "3       C0004  [(C0029, 0.324124), (C0047, 0.324124), (C0145,...\n",
      "4       C0005  [(C0154, 0.315909), (C0091, 0.490029), (C0043,...\n",
      "5       C0006  [(C0176, 0.379557), (C0038, 0.433594), (C0031,...\n",
      "6       C0007  [(C0167, 0.310021), (C0127, 0.316288), (C0134,...\n",
      "7       C0008  [(C0033, 0.318957), (C0182, 0.377296), (C0001,...\n",
      "8       C0009  [(C0012, 0.376185), (C0092, 0.397617), (C0199,...\n",
      "9       C0010  [(C0048, 0.408533), (C0176, 0.409332), (C0057,...\n",
      "10      C0011  [(C0110, 0.343648), (C0075, 0.390167), (C0171,...\n",
      "11      C0012  [(C0009, 0.376185), (C0097, 0.4215), (C0173, 0...\n",
      "12      C0013  [(C0164, 0.378703), (C0163, 0.394501), (C0086,...\n",
      "13      C0014  [(C0076, 0.394501), (C0157, 0.401071), (C0003,...\n",
      "14      C0015  [(C0070, 0.26227), (C0128, 0.502521), (C0188, ...\n",
      "15      C0016  [(C0120, 0.375736), (C0150, 0.423002), (C0170,...\n",
      "16      C0017  [(C0156, 0.329551), (C0037, 0.332651), (C0105,...\n",
      "17      C0018  [(C0080, 0.469549), (C0154, 0.470467), (C0045,...\n",
      "18      C0019  [(C0089, 0.41312), (C0060, 0.427795), (C0076, ...\n",
      "19      C0020  [(C0044, 0.37248), (C0120, 0.375736), (C0152, ...\n"
     ]
    }
   ],
   "source": [
    "#       Get top 3 lookalikes \n",
    "top_lookalikes = {}\n",
    "\n",
    "for customer_idx in range(20):  # First 20 customers \n",
    "    customer_id = customer_product_matrix.index[customer_idx]\n",
    "    similarity_scores = similarity_matrix[customer_idx]\n",
    "    \n",
    "    \n",
    "    similar_customer_indices = np.argsort(similarity_scores)[-4:-1]  \n",
    "    top_3_similar_customers = [(customer_product_matrix.index[i], similarity_scores[i]) for i in similar_customer_indices]\n",
    "    \n",
    "    # Store\n",
    "    top_lookalikes[customer_id] = top_3_similar_customers\n",
    "\n",
    "\n",
    "lookalike_map = []\n",
    "for customer_id, lookalikes in top_lookalikes.items():\n",
    "    lookalike_list = [(similar_customer_id, round(score, 6)) for similar_customer_id, score in lookalikes]\n",
    "    lookalike_map.append([customer_id, lookalike_list])\n",
    "\n",
    "lookalike_df = pd.DataFrame(lookalike_map, columns=['CustomerID', 'Lookalikes'])\n",
    "\n",
    "\n",
    "lookalike_df.to_csv('Lookalike.csv', index=False)\n",
    "\n",
    "\n",
    "print(lookalike_df.head(20))\n"
   ]
  },
  {
   "cell_type": "code",
   "execution_count": null,
   "id": "a0afe67f-fe9f-463d-bac7-28c24eee8e7e",
   "metadata": {},
   "outputs": [],
   "source": []
  }
 ],
 "metadata": {
  "kernelspec": {
   "display_name": "Python 3 (ipykernel)",
   "language": "python",
   "name": "python3"
  },
  "language_info": {
   "codemirror_mode": {
    "name": "ipython",
    "version": 3
   },
   "file_extension": ".py",
   "mimetype": "text/x-python",
   "name": "python",
   "nbconvert_exporter": "python",
   "pygments_lexer": "ipython3",
   "version": "3.12.4"
  }
 },
 "nbformat": 4,
 "nbformat_minor": 5
}
